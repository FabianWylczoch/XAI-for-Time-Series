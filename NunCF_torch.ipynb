{
 "cells": [
  {
   "attachments": {},
   "cell_type": "markdown",
   "metadata": {},
   "source": [
    "# Instance-based Counterfactual Explanations for Time Series Classification\n",
    "\n",
    "A counterfactual explanation, originally introduced to machine learning by [2], answers the question \"what if\" by building counterexamples. Based on an input instance $x$, the goal is to find a counterfactual $x^{cf}$ close to the original instance $x$ but differently classified $y \\neq y^{cf}$ by a predictor $f$. The intention is to visualize boundary cases. Further research has shown that counterfactual explanations are easy to understand for humans because they are intuitive  to human thinking by showing counterexamples.  \n",
    "\n",
    "Delaney et al.[1] proposed using the K-nearest neighbors from the dataset belonging to a different class as native guide to generate counterfactuals. They propose three options for transforming the original time series with this native guide: the plain native guide, the native guide with bary centering, and transformation based on the native guide and class activation mapping. The desired method can be selected by providing the method parameter during interpretability instantiation.\n",
    "\n",
    "<img src=\"https://fzi-forschungszentrum-informatik.github.io/TSInterpret/Notebooks/Nun_Grad.png\" alt=\"Visualization of Nun-CF\" style=\"width: 800px;\"/>\n",
    "\n",
    "The code in TSInterpret is based on the authors <a href='https://github.com/e-delaney/Instance-Based_CFE_TSC'>implementation </a>.\n",
    "\n",
    "[1] E. Delaney, D. Greene, and M. T. Keane. Instance-Based Counterfactual Explanations for Time Series Classification. In A. A. S ́anchez-Ruiz and M. W.Floyd, editors, Case-Based Reasoning Research and Development, volume 12877, pages 32–47. Springer International Publishing, Cham, 2021. ISBN 978-3-030-86956-4 978-3-030-86957-1. doi: 10.1007/978-3-030-86957-1 3. Series Title: Lecture Notes in Computer Science.\n",
    "\n",
    "[2] Wachter, Sandra, Brent Mittelstadt, and Chris Russell. \"Counterfactual explanations without opening the black box: Automated decisions and the GDPR.\" Harv. JL & Tech. 31 (2017): 841."
   ]
  },
  {
   "cell_type": "code",
   "execution_count": 30,
   "metadata": {},
   "outputs": [],
   "source": [
    "import os\n",
    "os.environ['TF_CPP_MIN_LOG_LEVEL'] = '3' \n",
    "from tslearn.datasets import UCR_UEA_datasets\n",
    "import sklearn\n",
    "import pickle\n",
    "import numpy as np \n",
    "import torch \n",
    "from TSInterpret_Artifacts.ClassificationModels.CNN_T import ResNetBaseline, UCRDataset, fit\n",
    "import warnings\n",
    "warnings.filterwarnings(\"ignore\") \n",
    "\n",
    "from tslearn.preprocessing import TimeSeriesScalerMinMax\n",
    "import matplotlib.pyplot as plt\n"
   ]
  },
  {
   "attachments": {},
   "cell_type": "markdown",
   "metadata": {},
   "source": [
    "## Load Data\n",
    "\n",
    "Load Data and reshape the data to fit a 1D-Conv ResNet. Note that the input for a 1D-Conv Resnet hat the shape (batch, features, timesteps)."
   ]
  },
  {
   "cell_type": "code",
   "execution_count": 31,
   "metadata": {},
   "outputs": [],
   "source": [
    "dataset='Coffee'"
   ]
  },
  {
   "cell_type": "code",
   "execution_count": null,
   "metadata": {},
   "outputs": [],
   "source": [
    "train_x,train_y, test_x, test_y=UCR_UEA_datasets().load_dataset(dataset)\n",
    "train_x = train_x.reshape(-1,1,  train_x.shape[-2])\n",
    "test_x = test_x.reshape(-1,1,  test_x.shape[-2])"
   ]
  },
  {
   "cell_type": "code",
   "execution_count": 23,
   "metadata": {},
   "outputs": [],
   "source": [
    "enc1=sklearn.preprocessing.OneHotEncoder(sparse=False).fit(np.vstack((train_y.reshape(-1,1),test_y.reshape(-1,1))))\n",
    "\n",
    "train_y=enc1.transform(train_y.reshape(-1,1))\n",
    "test_y=enc1.transform(test_y.reshape(-1,1))"
   ]
  },
  {
   "cell_type": "code",
   "execution_count": 53,
   "metadata": {},
   "outputs": [
    {
     "data": {
      "text/plain": [
       "(28, 1, 286)"
      ]
     },
     "execution_count": 53,
     "metadata": {},
     "output_type": "execute_result"
    }
   ],
   "source": [
    "train_x.shape"
   ]
  },
  {
   "attachments": {},
   "cell_type": "markdown",
   "metadata": {},
   "source": [
    "## Model Training / Loading\n",
    "Trains a ResNet and saves the results."
   ]
  },
  {
   "cell_type": "code",
   "execution_count": 8,
   "metadata": {},
   "outputs": [
    {
     "name": "stdout",
     "output_type": "stream",
     "text": [
      "Epoch: 1, Train loss: 0.708, Val loss: 0.702\n",
      "Epoch: 2, Train loss: 0.834, Val loss: 0.706\n",
      "Epoch: 3, Train loss: 0.723, Val loss: 0.696\n",
      "Epoch: 4, Train loss: 0.699, Val loss: 0.692\n",
      "Epoch: 5, Train loss: 0.699, Val loss: 0.692\n",
      "Epoch: 6, Train loss: 0.7, Val loss: 0.696\n",
      "Epoch: 7, Train loss: 0.702, Val loss: 0.691\n",
      "Epoch: 8, Train loss: 0.711, Val loss: 0.695\n",
      "Epoch: 9, Train loss: 0.7, Val loss: 0.692\n",
      "Epoch: 10, Train loss: 0.696, Val loss: 0.694\n",
      "Epoch: 11, Train loss: 0.699, Val loss: 0.694\n",
      "Epoch: 12, Train loss: 0.704, Val loss: 0.695\n",
      "Epoch: 13, Train loss: 0.696, Val loss: 0.69\n",
      "Epoch: 14, Train loss: 0.7, Val loss: 0.694\n",
      "Epoch: 15, Train loss: 0.706, Val loss: 0.69\n",
      "Epoch: 16, Train loss: 0.704, Val loss: 0.697\n",
      "Epoch: 17, Train loss: 0.711, Val loss: 0.699\n",
      "Epoch: 18, Train loss: 0.708, Val loss: 0.7\n",
      "Epoch: 19, Train loss: 0.706, Val loss: 0.694\n",
      "Epoch: 20, Train loss: 0.7, Val loss: 0.694\n",
      "Epoch: 21, Train loss: 0.702, Val loss: 0.691\n",
      "Epoch: 22, Train loss: 0.711, Val loss: 0.699\n",
      "Epoch: 23, Train loss: 0.698, Val loss: 0.692\n",
      "Epoch: 24, Train loss: 0.696, Val loss: 0.692\n",
      "Epoch: 25, Train loss: 0.712, Val loss: 0.691\n",
      "Epoch: 26, Train loss: 0.696, Val loss: 0.698\n",
      "Epoch: 27, Train loss: 0.697, Val loss: 0.693\n",
      "Epoch: 28, Train loss: 0.703, Val loss: 0.697\n",
      "Epoch: 29, Train loss: 0.696, Val loss: 0.692\n",
      "Epoch: 30, Train loss: 0.698, Val loss: 0.691\n",
      "Epoch: 31, Train loss: 0.698, Val loss: 0.693\n",
      "Epoch: 32, Train loss: 0.696, Val loss: 0.696\n",
      "Epoch: 33, Train loss: 0.694, Val loss: 0.694\n",
      "Epoch: 34, Train loss: 0.698, Val loss: 0.692\n",
      "Epoch: 35, Train loss: 0.704, Val loss: 0.691\n",
      "Epoch: 36, Train loss: 0.703, Val loss: 0.699\n",
      "Epoch: 37, Train loss: 0.699, Val loss: 0.691\n",
      "Epoch: 38, Train loss: 0.698, Val loss: 0.692\n",
      "Epoch: 39, Train loss: 0.702, Val loss: 0.693\n",
      "Epoch: 40, Train loss: 0.699, Val loss: 0.693\n",
      "Epoch: 41, Train loss: 0.695, Val loss: 0.695\n",
      "Epoch: 42, Train loss: 0.702, Val loss: 0.697\n",
      "Epoch: 43, Train loss: 0.696, Val loss: 0.692\n",
      "Epoch: 44, Train loss: 0.702, Val loss: 0.691\n",
      "Epoch: 45, Train loss: 0.695, Val loss: 0.693\n",
      "Epoch: 46, Train loss: 0.7, Val loss: 0.697\n",
      "Epoch: 47, Train loss: 0.696, Val loss: 0.693\n",
      "Epoch: 48, Train loss: 0.699, Val loss: 0.692\n",
      "Epoch: 49, Train loss: 0.696, Val loss: 0.693\n",
      "Epoch: 50, Train loss: 0.697, Val loss: 0.693\n"
     ]
    }
   ],
   "source": [
    "# CNN (ResNet)\n",
    "\n",
    "n_pred_classes = 2\n",
    "train_dataset = UCRDataset(train_x.astype(np.float64),train_y.astype(np.int64))\n",
    "test_dataset = UCRDataset(test_x.astype(np.float64),test_y.astype(np.int64))\n",
    "train_loader = torch.utils.data.DataLoader(train_dataset,shuffle=True)\n",
    "test_loader = torch.utils.data.DataLoader(test_dataset,batch_size=1,shuffle=False)\n",
    "\n",
    "model = ResNetBaseline(in_channels=1, num_pred_classes=n_pred_classes)\n",
    "fit(model, train_loader, test_loader, num_epochs=50) \n",
    "\n",
    "# model = ResNetBaseline(in_channels=1, num_pred_classes=n_pred_classes)\n",
    "# state_dict= torch.load(f'../../ClassificationModels/models/{dataset}/ResNet')\n",
    "# model.load_state_dict(state_dict)"
   ]
  },
  {
   "cell_type": "code",
   "execution_count": 9,
   "metadata": {},
   "outputs": [
    {
     "data": {
      "text/plain": [
       "(28, 1, 286)"
      ]
     },
     "execution_count": 9,
     "metadata": {},
     "output_type": "execute_result"
    }
   ],
   "source": [
    "train_loader.dataset.feature.shape"
   ]
  },
  {
   "attachments": {},
   "cell_type": "markdown",
   "metadata": {},
   "source": [
    "## Interpretability Algorithm\n",
    "\n",
    "Using a interpretability algorithm consists of 4 steps:\n",
    "\n",
    "1. Load the Interpretability Method\n",
    "2. Instaniate the Method with the desired Parameters\n",
    "3. Call the explain Method\n",
    "4. Plot the results\n",
    "\n",
    "### 1. & 2. Loading  & Instantiation\n",
    "Native Guide counterfactuals works on all models tensorflow and pyTorch models returning a probability function. The Initialization takes the following arguments:\n",
    "\n",
    "\n",
    "    `model`: The model to be explaines.\n",
    "    `shape`: The data shape in form of (features, timesteps).\n",
    "    `data`: Tuple of Data and Labels used to find and build CF.\n",
    "    `backend`: `PYT`, `SK`, or `TF`.\n",
    "    `mode`: second dimension is either `feat` or `time`. \n",
    "    `method`: ['NUN_CF', \"dtw_bary_center\", 'NG'].\n"
   ]
  },
  {
   "cell_type": "code",
   "execution_count": 12,
   "metadata": {},
   "outputs": [],
   "source": [
    "model.eval()\n",
    "item=test_x[20].reshape(1,1,-1)\n",
    "_item=test_x[20].reshape(1,1,-1)\n",
    "\n",
    "shape=item.shape\n",
    "_item=  torch.from_numpy(_item).float()\n",
    "model.eval()\n",
    "y_target = torch.nn.functional.softmax(model(_item)).detach().numpy()"
   ]
  },
  {
   "cell_type": "code",
   "execution_count": 16,
   "metadata": {},
   "outputs": [
    {
     "name": "stderr",
     "output_type": "stream",
     "text": [
      "WARNING:root:no value was provided for `target_layer`, thus set to 'layers'.\n",
      "WARNING:root:no value was provided for `fc_layer`, thus set to 'final'.\n"
     ]
    }
   ],
   "source": [
    "from TSInterpret_Artifacts.InterpretabilityModels.NativeGuideCF import NativeGuideCF\n",
    "exp_model=NativeGuideCF(model,(train_x,train_y), backend='PYT', mode='feat',method='NUN_CF') # mode bezieht sich im dreidimensionalen Feld auf die zweite Dimension"
   ]
  },
  {
   "cell_type": "code",
   "execution_count": 19,
   "metadata": {},
   "outputs": [
    {
     "data": {
      "text/plain": [
       "(28, 1, 286)"
      ]
     },
     "execution_count": 19,
     "metadata": {},
     "output_type": "execute_result"
    }
   ],
   "source": [
    "train_x.shape"
   ]
  },
  {
   "cell_type": "code",
   "execution_count": 21,
   "metadata": {},
   "outputs": [
    {
     "data": {
      "text/plain": [
       "tensor([[-0.0342, -0.0487],\n",
       "        [-0.0342, -0.0487],\n",
       "        [-0.0342, -0.0488],\n",
       "        [-0.0342, -0.0488],\n",
       "        [-0.0342, -0.0487],\n",
       "        [-0.0342, -0.0488],\n",
       "        [-0.0342, -0.0488],\n",
       "        [-0.0342, -0.0488],\n",
       "        [-0.0342, -0.0487],\n",
       "        [-0.0342, -0.0487],\n",
       "        [-0.0342, -0.0487],\n",
       "        [-0.0342, -0.0487],\n",
       "        [-0.0342, -0.0487],\n",
       "        [-0.0342, -0.0487],\n",
       "        [-0.0342, -0.0487],\n",
       "        [-0.0342, -0.0488],\n",
       "        [-0.0342, -0.0487],\n",
       "        [-0.0342, -0.0487],\n",
       "        [-0.0342, -0.0487],\n",
       "        [-0.0342, -0.0488],\n",
       "        [-0.0342, -0.0487],\n",
       "        [-0.0342, -0.0487],\n",
       "        [-0.0342, -0.0487],\n",
       "        [-0.0342, -0.0487],\n",
       "        [-0.0342, -0.0487],\n",
       "        [-0.0342, -0.0487],\n",
       "        [-0.0342, -0.0487],\n",
       "        [-0.0342, -0.0487]], grad_fn=<AddmmBackward0>)"
      ]
     },
     "execution_count": 21,
     "metadata": {},
     "output_type": "execute_result"
    }
   ],
   "source": [
    "model(torch.from_numpy(train_x).float())"
   ]
  },
  {
   "attachments": {},
   "cell_type": "markdown",
   "metadata": {},
   "source": [
    "### 3. Call the explain method.\n",
    "\n",
    "Prepeare the instance and the predicted label of the instance as parameters for the explain methods.\n",
    "\n",
    "- `item`: item to be explained.\n",
    "- `target`: desired target class of CF."
   ]
  },
  {
   "cell_type": "code",
   "execution_count": 18,
   "metadata": {},
   "outputs": [
    {
     "data": {
      "text/plain": [
       "(1, 1, 286)"
      ]
     },
     "execution_count": 18,
     "metadata": {},
     "output_type": "execute_result"
    }
   ],
   "source": [
    "item.shape"
   ]
  },
  {
   "cell_type": "code",
   "execution_count": 17,
   "metadata": {},
   "outputs": [
    {
     "ename": "ValueError",
     "evalue": "Found array with 0 sample(s) (shape=(0, 286, 1)) while a minimum of 1 is required.",
     "output_type": "error",
     "traceback": [
      "\u001b[0;31m---------------------------------------------------------------------------\u001b[0m",
      "\u001b[0;31mValueError\u001b[0m                                Traceback (most recent call last)",
      "Cell \u001b[0;32mIn[17], line 1\u001b[0m\n\u001b[0;32m----> 1\u001b[0m exp,label \u001b[38;5;241m=\u001b[39m \u001b[43mexp_model\u001b[49m\u001b[38;5;241;43m.\u001b[39;49m\u001b[43mexplain\u001b[49m\u001b[43m(\u001b[49m\u001b[43mitem\u001b[49m\u001b[43m,\u001b[49m\u001b[43m \u001b[49m\u001b[43mnp\u001b[49m\u001b[38;5;241;43m.\u001b[39;49m\u001b[43margmax\u001b[49m\u001b[43m(\u001b[49m\u001b[43my_target\u001b[49m\u001b[43m,\u001b[49m\u001b[43maxis\u001b[49m\u001b[38;5;241;43m=\u001b[39;49m\u001b[38;5;241;43m1\u001b[39;49m\u001b[43m)\u001b[49m\u001b[43m[\u001b[49m\u001b[38;5;241;43m0\u001b[39;49m\u001b[43m]\u001b[49m\u001b[43m)\u001b[49m\n",
      "File \u001b[0;32m~/Coding/Uni/XAI-for-Time-Series/TSInterpret_Artifacts/InterpretabilityModels/NativeGuideCF.py:326\u001b[0m, in \u001b[0;36mNativeGuideCF.explain\u001b[0;34m(self, x, y)\u001b[0m\n\u001b[1;32m    324\u001b[0m \u001b[38;5;28;01melif\u001b[39;00m \u001b[38;5;28mself\u001b[39m\u001b[38;5;241m.\u001b[39mmethod \u001b[38;5;241m==\u001b[39m \u001b[38;5;124m\"\u001b[39m\u001b[38;5;124mNUN_CF\u001b[39m\u001b[38;5;124m\"\u001b[39m:\n\u001b[1;32m    325\u001b[0m     \u001b[38;5;28mself\u001b[39m\u001b[38;5;241m.\u001b[39mdistance_measure \u001b[38;5;241m=\u001b[39m \u001b[38;5;124m\"\u001b[39m\u001b[38;5;124meuclidean\u001b[39m\u001b[38;5;124m\"\u001b[39m\n\u001b[0;32m--> 326\u001b[0m     \u001b[38;5;28;01mreturn\u001b[39;00m \u001b[38;5;28;43mself\u001b[39;49m\u001b[38;5;241;43m.\u001b[39;49m\u001b[43m_counterfactual_generator_swap\u001b[49m\u001b[43m(\u001b[49m\u001b[43mx\u001b[49m\u001b[43m,\u001b[49m\u001b[43m \u001b[49m\u001b[43my\u001b[49m\u001b[43m,\u001b[49m\u001b[43m \u001b[49m\u001b[43mmax_iter\u001b[49m\u001b[38;5;241;43m=\u001b[39;49m\u001b[38;5;28;43mself\u001b[39;49m\u001b[38;5;241;43m.\u001b[39;49m\u001b[43mmax_iter\u001b[49m\u001b[43m)\u001b[49m\n\u001b[1;32m    327\u001b[0m \u001b[38;5;28;01melse\u001b[39;00m:\n\u001b[1;32m    328\u001b[0m     \u001b[38;5;28mprint\u001b[39m(\u001b[38;5;124m\"\u001b[39m\u001b[38;5;124mUnknown Method selected.\u001b[39m\u001b[38;5;124m\"\u001b[39m)\n",
      "File \u001b[0;32m~/Coding/Uni/XAI-for-Time-Series/TSInterpret_Artifacts/InterpretabilityModels/NativeGuideCF.py:196\u001b[0m, in \u001b[0;36mNativeGuideCF._counterfactual_generator_swap\u001b[0;34m(self, instance, label, subarray_length, max_iter)\u001b[0m\n\u001b[1;32m    193\u001b[0m \u001b[38;5;28;01mdef\u001b[39;00m \u001b[38;5;21m_counterfactual_generator_swap\u001b[39m(\n\u001b[1;32m    194\u001b[0m     \u001b[38;5;28mself\u001b[39m, instance, label, subarray_length\u001b[38;5;241m=\u001b[39m\u001b[38;5;241m1\u001b[39m, max_iter\u001b[38;5;241m=\u001b[39m\u001b[38;5;241m500\u001b[39m\n\u001b[1;32m    195\u001b[0m ):\n\u001b[0;32m--> 196\u001b[0m     _, nun \u001b[38;5;241m=\u001b[39m \u001b[38;5;28;43mself\u001b[39;49m\u001b[38;5;241;43m.\u001b[39;49m\u001b[43m_native_guide_retrieval\u001b[49m\u001b[43m(\u001b[49m\u001b[43minstance\u001b[49m\u001b[43m,\u001b[49m\u001b[43m \u001b[49m\u001b[43mlabel\u001b[49m\u001b[43m,\u001b[49m\u001b[43m \u001b[49m\u001b[38;5;28;43mself\u001b[39;49m\u001b[38;5;241;43m.\u001b[39;49m\u001b[43mdistance_measure\u001b[49m\u001b[43m,\u001b[49m\u001b[43m \u001b[49m\u001b[38;5;241;43m1\u001b[39;49m\u001b[43m)\u001b[49m\n\u001b[1;32m    197\u001b[0m     \u001b[38;5;28;01mif\u001b[39;00m np\u001b[38;5;241m.\u001b[39mcount_nonzero(nun\u001b[38;5;241m.\u001b[39mreshape(\u001b[38;5;241m-\u001b[39m\u001b[38;5;241m1\u001b[39m) \u001b[38;5;241m-\u001b[39m instance\u001b[38;5;241m.\u001b[39mreshape(\u001b[38;5;241m-\u001b[39m\u001b[38;5;241m1\u001b[39m)) \u001b[38;5;241m==\u001b[39m \u001b[38;5;241m0\u001b[39m:\n\u001b[1;32m    198\u001b[0m         \u001b[38;5;28mprint\u001b[39m(\u001b[38;5;124m\"\u001b[39m\u001b[38;5;124mStarting and nun are Identical !\u001b[39m\u001b[38;5;124m\"\u001b[39m)\n",
      "File \u001b[0;32m~/Coding/Uni/XAI-for-Time-Series/TSInterpret_Artifacts/InterpretabilityModels/NativeGuideCF.py:145\u001b[0m, in \u001b[0;36mNativeGuideCF._native_guide_retrieval\u001b[0;34m(self, query, predicted_label, distance, n_neighbors)\u001b[0m\n\u001b[1;32m    143\u001b[0m ts_length \u001b[38;5;241m=\u001b[39m \u001b[38;5;28mself\u001b[39m\u001b[38;5;241m.\u001b[39mts_length\n\u001b[1;32m    144\u001b[0m knn \u001b[38;5;241m=\u001b[39m KNeighborsTimeSeries(n_neighbors\u001b[38;5;241m=\u001b[39mn_neighbors, metric\u001b[38;5;241m=\u001b[39mdistance)\n\u001b[0;32m--> 145\u001b[0m \u001b[43mknn\u001b[49m\u001b[38;5;241;43m.\u001b[39;49m\u001b[43mfit\u001b[49m\u001b[43m(\u001b[49m\u001b[43mx_train\u001b[49m\u001b[43m[\u001b[49m\u001b[38;5;28;43mlist\u001b[39;49m\u001b[43m(\u001b[49m\u001b[43mnp\u001b[49m\u001b[38;5;241;43m.\u001b[39;49m\u001b[43mwhere\u001b[49m\u001b[43m(\u001b[49m\u001b[43my\u001b[49m\u001b[43m \u001b[49m\u001b[38;5;241;43m!=\u001b[39;49m\u001b[43m \u001b[49m\u001b[43mpredicted_label\u001b[49m\u001b[43m)\u001b[49m\u001b[43m)\u001b[49m\u001b[43m]\u001b[49m\u001b[38;5;241;43m.\u001b[39;49m\u001b[43mreshape\u001b[49m\u001b[43m(\u001b[49m\u001b[38;5;241;43m-\u001b[39;49m\u001b[38;5;241;43m1\u001b[39;49m\u001b[43m,\u001b[49m\u001b[43m \u001b[49m\u001b[43mts_length\u001b[49m\u001b[43m,\u001b[49m\u001b[43m \u001b[49m\u001b[38;5;241;43m1\u001b[39;49m\u001b[43m)\u001b[49m\u001b[43m)\u001b[49m\n\u001b[1;32m    146\u001b[0m dist, ind \u001b[38;5;241m=\u001b[39m knn\u001b[38;5;241m.\u001b[39mkneighbors(query\u001b[38;5;241m.\u001b[39mreshape(\u001b[38;5;241m1\u001b[39m, ts_length, \u001b[38;5;241m1\u001b[39m), return_distance\u001b[38;5;241m=\u001b[39m\u001b[38;5;28;01mTrue\u001b[39;00m)\n\u001b[1;32m    147\u001b[0m x_train\u001b[38;5;241m.\u001b[39mreshape(\u001b[38;5;241m-\u001b[39m\u001b[38;5;241m1\u001b[39m, \u001b[38;5;241m1\u001b[39m, ts_length)\n",
      "File \u001b[0;32m~/Coding/Uni/XAI-for-Time-Series/venv/lib/python3.10/site-packages/tslearn/neighbors/neighbors.py:269\u001b[0m, in \u001b[0;36mKNeighborsTimeSeries.fit\u001b[0;34m(self, X, y)\u001b[0m\n\u001b[1;32m    266\u001b[0m     \u001b[38;5;28mself\u001b[39m\u001b[38;5;241m.\u001b[39m_ts_metric \u001b[38;5;241m=\u001b[39m \u001b[38;5;28mself\u001b[39m\u001b[38;5;241m.\u001b[39mmetric\n\u001b[1;32m    267\u001b[0m     \u001b[38;5;28mself\u001b[39m\u001b[38;5;241m.\u001b[39mmetric \u001b[38;5;241m=\u001b[39m \u001b[38;5;124m\"\u001b[39m\u001b[38;5;124mprecomputed\u001b[39m\u001b[38;5;124m\"\u001b[39m\n\u001b[0;32m--> 269\u001b[0m X \u001b[38;5;241m=\u001b[39m \u001b[43mcheck_array\u001b[49m\u001b[43m(\u001b[49m\u001b[43mX\u001b[49m\u001b[43m,\u001b[49m\n\u001b[1;32m    270\u001b[0m \u001b[43m                \u001b[49m\u001b[43mallow_nd\u001b[49m\u001b[38;5;241;43m=\u001b[39;49m\u001b[38;5;28;43;01mTrue\u001b[39;49;00m\u001b[43m,\u001b[49m\n\u001b[1;32m    271\u001b[0m \u001b[43m                \u001b[49m\u001b[43mforce_all_finite\u001b[49m\u001b[38;5;241;43m=\u001b[39;49m\u001b[43m(\u001b[49m\u001b[38;5;28;43mself\u001b[39;49m\u001b[38;5;241;43m.\u001b[39;49m\u001b[43mmetric\u001b[49m\u001b[43m \u001b[49m\u001b[38;5;241;43m!=\u001b[39;49m\u001b[43m \u001b[49m\u001b[38;5;124;43m\"\u001b[39;49m\u001b[38;5;124;43mprecomputed\u001b[39;49m\u001b[38;5;124;43m\"\u001b[39;49m\u001b[43m)\u001b[49m\u001b[43m)\u001b[49m\n\u001b[1;32m    272\u001b[0m X \u001b[38;5;241m=\u001b[39m to_time_series_dataset(X)\n\u001b[1;32m    273\u001b[0m X \u001b[38;5;241m=\u001b[39m check_dims(X)\n",
      "File \u001b[0;32m~/Coding/Uni/XAI-for-Time-Series/venv/lib/python3.10/site-packages/sklearn/utils/validation.py:969\u001b[0m, in \u001b[0;36mcheck_array\u001b[0;34m(array, accept_sparse, accept_large_sparse, dtype, order, copy, force_all_finite, ensure_2d, allow_nd, ensure_min_samples, ensure_min_features, estimator, input_name)\u001b[0m\n\u001b[1;32m    967\u001b[0m     n_samples \u001b[38;5;241m=\u001b[39m _num_samples(array)\n\u001b[1;32m    968\u001b[0m     \u001b[38;5;28;01mif\u001b[39;00m n_samples \u001b[38;5;241m<\u001b[39m ensure_min_samples:\n\u001b[0;32m--> 969\u001b[0m         \u001b[38;5;28;01mraise\u001b[39;00m \u001b[38;5;167;01mValueError\u001b[39;00m(\n\u001b[1;32m    970\u001b[0m             \u001b[38;5;124m\"\u001b[39m\u001b[38;5;124mFound array with \u001b[39m\u001b[38;5;132;01m%d\u001b[39;00m\u001b[38;5;124m sample(s) (shape=\u001b[39m\u001b[38;5;132;01m%s\u001b[39;00m\u001b[38;5;124m) while a\u001b[39m\u001b[38;5;124m\"\u001b[39m\n\u001b[1;32m    971\u001b[0m             \u001b[38;5;124m\"\u001b[39m\u001b[38;5;124m minimum of \u001b[39m\u001b[38;5;132;01m%d\u001b[39;00m\u001b[38;5;124m is required\u001b[39m\u001b[38;5;132;01m%s\u001b[39;00m\u001b[38;5;124m.\u001b[39m\u001b[38;5;124m\"\u001b[39m\n\u001b[1;32m    972\u001b[0m             \u001b[38;5;241m%\u001b[39m (n_samples, array\u001b[38;5;241m.\u001b[39mshape, ensure_min_samples, context)\n\u001b[1;32m    973\u001b[0m         )\n\u001b[1;32m    975\u001b[0m \u001b[38;5;28;01mif\u001b[39;00m ensure_min_features \u001b[38;5;241m>\u001b[39m \u001b[38;5;241m0\u001b[39m \u001b[38;5;129;01mand\u001b[39;00m array\u001b[38;5;241m.\u001b[39mndim \u001b[38;5;241m==\u001b[39m \u001b[38;5;241m2\u001b[39m:\n\u001b[1;32m    976\u001b[0m     n_features \u001b[38;5;241m=\u001b[39m array\u001b[38;5;241m.\u001b[39mshape[\u001b[38;5;241m1\u001b[39m]\n",
      "\u001b[0;31mValueError\u001b[0m: Found array with 0 sample(s) (shape=(0, 286, 1)) while a minimum of 1 is required."
     ]
    }
   ],
   "source": [
    "exp,label = exp_model.explain(item, np.argmax(y_target,axis=1)[0])"
   ]
  },
  {
   "attachments": {},
   "cell_type": "markdown",
   "metadata": {},
   "source": [
    "### 4. Visualization\n",
    "\n",
    "Plot function takes as input the item to be explained and the returned explanation, as well as the assigned labels."
   ]
  },
  {
   "cell_type": "code",
   "execution_count": null,
   "metadata": {},
   "outputs": [
    {
     "ename": "TypeError",
     "evalue": "CF.plot() missing 2 required positional arguments: 'exp' and 'exp_label'",
     "output_type": "error",
     "traceback": [
      "\u001b[0;31m---------------------------------------------------------------------------\u001b[0m",
      "\u001b[0;31mTypeError\u001b[0m                                 Traceback (most recent call last)",
      "Cell \u001b[0;32mIn[27], line 1\u001b[0m\n\u001b[0;32m----> 1\u001b[0m \u001b[43mexp_model\u001b[49m\u001b[38;5;241;43m.\u001b[39;49m\u001b[43mplot\u001b[49m\u001b[43m(\u001b[49m\u001b[43mitem\u001b[49m\u001b[43m,\u001b[49m\u001b[43mnp\u001b[49m\u001b[38;5;241;43m.\u001b[39;49m\u001b[43margmax\u001b[49m\u001b[43m(\u001b[49m\u001b[43my_target\u001b[49m\u001b[43m,\u001b[49m\u001b[43maxis\u001b[49m\u001b[38;5;241;43m=\u001b[39;49m\u001b[38;5;241;43m1\u001b[39;49m\u001b[43m)\u001b[49m\u001b[43m[\u001b[49m\u001b[38;5;241;43m0\u001b[39;49m\u001b[43m]\u001b[49m\u001b[43m)\u001b[49m\u001b[38;5;66;03m#,exp,label)\u001b[39;00m\n",
      "\u001b[0;31mTypeError\u001b[0m: CF.plot() missing 2 required positional arguments: 'exp' and 'exp_label'"
     ]
    }
   ],
   "source": [
    "\n",
    "exp_model.plot(item,np.argmax(y_target,axis=1)[0],exp,label)"
   ]
  },
  {
   "cell_type": "code",
   "execution_count": 10,
   "metadata": {},
   "outputs": [
    {
     "data": {
      "image/png": "[encoded data removed]",
      "text/plain": [
       "<Figure size 512x384 with 1 Axes>"
      ]
     },
     "metadata": {},
     "output_type": "display_data"
    }
   ],
   "source": [
    "exp_model.plot_in_one(item,np.argmax(y_target,axis=1)[0],exp,label)"
   ]
  },
  {
   "attachments": {},
   "cell_type": "markdown",
   "metadata": {},
   "source": [
    "Additional Examples, e.g. for the use with LSTM or TF can be found <a href='https://github.com/JHoelli/TSInterpret/blob/main/docs/Notebooks'>here</a>."
   ]
  },
  {
   "cell_type": "code",
   "execution_count": 2,
   "metadata": {},
   "outputs": [],
   "source": [
    "import TSInterpret"
   ]
  },
  {
   "cell_type": "code",
   "execution_count": null,
   "metadata": {},
   "outputs": [],
   "source": []
  }
 ],
 "metadata": {
  "kernelspec": {
   "display_name": "venv",
   "language": "python",
   "name": "python3"
  },
  "language_info": {
   "codemirror_mode": {
    "name": "ipython",
    "version": 3
   },
   "file_extension": ".py",
   "mimetype": "text/x-python",
   "name": "python",
   "nbconvert_exporter": "python",
   "pygments_lexer": "ipython3",
   "version": "3.10.15"
  },
  "orig_nbformat": 4
 },
 "nbformat": 4,
 "nbformat_minor": 2
}
